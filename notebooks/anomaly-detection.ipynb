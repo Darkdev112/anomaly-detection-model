{
 "cells": [
  {
   "cell_type": "code",
   "execution_count": 16,
   "id": "4bf39335-9d03-4d5c-a45c-8ea13b95c0be",
   "metadata": {},
   "outputs": [],
   "source": [
    "import pandas as pd\n",
    "from sklearn.preprocessing import MinMaxScaler\n",
    "from sklearn.model_selection import train_test_split\n",
    "\n",
    "# Load the data\n",
    "file_path = '../data/dns_queries.csv'  # Replace with your file path if needed\n",
    "data = pd.read_csv(file_path)\n",
    "\n",
    "# Set column names exactly as per the description.txt\n",
    "data.columns = [\n",
    "    'user_ip', 'domain', 'timestamp', 'attack', 'request', 'len', 'subdomains_count', \n",
    "    'w_count', 'w_max', 'entropy', 'w_max_ratio', 'w_count_ratio', 'digits_ratio', \n",
    "    'uppercase_ratio', 'time_avg', 'time_stdev', 'size_avg', 'size stdev', \n",
    "    'throughput', 'unique', 'entropy_avg', 'entropy_stdev'\n",
    "]\n",
    "\n",
    "# Select feature columns for training\n",
    "feature_columns = [\n",
    "    'len', 'subdomains_count', 'w_count', 'w_max', 'entropy', 'w_max_ratio', \n",
    "    'w_count_ratio', 'digits_ratio', 'uppercase_ratio', 'time_avg', 'time_stdev', \n",
    "    'size_avg', 'size stdev', 'throughput', 'unique', 'entropy_avg', 'entropy_stdev'\n",
    "]\n",
    "\n",
    "X = data[feature_columns]\n",
    "\n",
    "# Normalize the data\n",
    "scaler = MinMaxScaler()\n",
    "X_scaled = scaler.fit_transform(X)\n",
    "\n",
    "# Split the data for training (simulate normal) and testing (with anomalies)\n",
    "X_train, X_test = train_test_split(X_scaled, test_size=0.2, random_state=42)\n",
    "\n",
    "# X_train and X_test are now ready for use in training and evaluating your model\n"
   ]
  },
  {
   "cell_type": "code",
   "execution_count": 17,
   "id": "d4195686-f76a-44ed-bb0c-786a0d3a0510",
   "metadata": {},
   "outputs": [
    {
     "data": {
      "text/plain": [
       "array([[1.        , 0.38461538, 0.83739837, ..., 0.        , 0.91507355,\n",
       "        0.05494378],\n",
       "       [0.07741935, 0.        , 0.12195122, ..., 0.        , 0.52042884,\n",
       "        0.1824018 ],\n",
       "       [0.01935484, 0.        , 0.02439024, ..., 0.        , 0.1830784 ,\n",
       "        0.15295861],\n",
       "       ...,\n",
       "       [0.14193548, 0.07692308, 0.11382114, ..., 0.        , 0.68224278,\n",
       "        0.06932567],\n",
       "       [0.2       , 0.07692308, 0.10569106, ..., 0.        , 0.69603026,\n",
       "        0.49057813],\n",
       "       [0.01935484, 0.        , 0.04065041, ..., 0.        , 0.12833598,\n",
       "        0.25411392]])"
      ]
     },
     "execution_count": 17,
     "metadata": {},
     "output_type": "execute_result"
    }
   ],
   "source": [
    "X_train"
   ]
  },
  {
   "cell_type": "code",
   "execution_count": 18,
   "id": "6c3589c7-d151-482b-8027-ddd6a0baa55a",
   "metadata": {},
   "outputs": [
    {
     "data": {
      "text/plain": [
       "array([[0.07741935, 0.        , 0.06504065, ..., 0.        , 0.47456869,\n",
       "        0.27821786],\n",
       "       [0.07741935, 0.        , 0.05691057, ..., 0.        , 0.56701341,\n",
       "        0.16572431],\n",
       "       [0.14193548, 0.07692308, 0.06504065, ..., 0.        , 0.61173613,\n",
       "        0.63475459],\n",
       "       ...,\n",
       "       [0.01935484, 0.        , 0.02439024, ..., 0.        , 0.15570719,\n",
       "        0.19588259],\n",
       "       [0.01935484, 0.        , 0.01626016, ..., 0.        , 0.12833598,\n",
       "        0.25411392],\n",
       "       [0.07741935, 0.        , 0.04065041, ..., 0.        , 0.53550976,\n",
       "        0.18715135]])"
      ]
     },
     "execution_count": 18,
     "metadata": {},
     "output_type": "execute_result"
    }
   ],
   "source": [
    "X_test"
   ]
  },
  {
   "cell_type": "code",
   "execution_count": 21,
   "id": "8fac3611-8672-4536-b5b6-4980c4eed940",
   "metadata": {},
   "outputs": [],
   "source": [
    "from keras.models import Model\n",
    "from keras.layers import Input, Dense\n",
    "import numpy as np"
   ]
  },
  {
   "cell_type": "code",
   "execution_count": 23,
   "id": "7e5f5f70-1051-4b82-b68e-ac9021b2b0d8",
   "metadata": {},
   "outputs": [],
   "source": [
    "# Define the autoencoder model\n",
    "input_dim = X_train.shape[1]\n",
    "encoding_dim = int(input_dim / 2)  # Dimension of the encoded representation"
   ]
  },
  {
   "cell_type": "code",
   "execution_count": 26,
   "id": "9b707a8c-d2a1-4fd1-a957-e7e262b58ab3",
   "metadata": {},
   "outputs": [],
   "source": [
    "# Build the autoencoder architecture\n",
    "input_layer = Input(shape=(input_dim,))\n",
    "encoder = Dense(encoding_dim, activation='relu')(input_layer)\n",
    "decoder = Dense(input_dim, activation='sigmoid')(encoder)\n",
    "autoencoder = Model(inputs=input_layer, outputs=decoder)"
   ]
  },
  {
   "cell_type": "code",
   "execution_count": 27,
   "id": "a8ee0124-d728-4cf3-b5af-f9b56f0414e3",
   "metadata": {},
   "outputs": [],
   "source": [
    "# Compile the model\n",
    "autoencoder.compile(optimizer='adam', loss='mean_squared_error')"
   ]
  },
  {
   "cell_type": "code",
   "execution_count": 28,
   "id": "3df9f1f1-7810-43b2-bd2b-fba0462bd386",
   "metadata": {},
   "outputs": [
    {
     "name": "stdout",
     "output_type": "stream",
     "text": [
      "Epoch 1/50\n",
      "\u001b[1m952/952\u001b[0m \u001b[32m━━━━━━━━━━━━━━━━━━━━\u001b[0m\u001b[37m\u001b[0m \u001b[1m1s\u001b[0m 614us/step - loss: 0.0776 - val_loss: 0.0052\n",
      "Epoch 2/50\n",
      "\u001b[1m952/952\u001b[0m \u001b[32m━━━━━━━━━━━━━━━━━━━━\u001b[0m\u001b[37m\u001b[0m \u001b[1m1s\u001b[0m 571us/step - loss: 0.0050 - val_loss: 0.0032\n",
      "Epoch 3/50\n",
      "\u001b[1m952/952\u001b[0m \u001b[32m━━━━━━━━━━━━━━━━━━━━\u001b[0m\u001b[37m\u001b[0m \u001b[1m1s\u001b[0m 553us/step - loss: 0.0033 - val_loss: 0.0022\n",
      "Epoch 4/50\n",
      "\u001b[1m952/952\u001b[0m \u001b[32m━━━━━━━━━━━━━━━━━━━━\u001b[0m\u001b[37m\u001b[0m \u001b[1m1s\u001b[0m 526us/step - loss: 0.0024 - val_loss: 0.0016\n",
      "Epoch 5/50\n",
      "\u001b[1m952/952\u001b[0m \u001b[32m━━━━━━━━━━━━━━━━━━━━\u001b[0m\u001b[37m\u001b[0m \u001b[1m1s\u001b[0m 523us/step - loss: 0.0018 - val_loss: 0.0013\n",
      "Epoch 6/50\n",
      "\u001b[1m952/952\u001b[0m \u001b[32m━━━━━━━━━━━━━━━━━━━━\u001b[0m\u001b[37m\u001b[0m \u001b[1m1s\u001b[0m 547us/step - loss: 0.0014 - val_loss: 0.0011\n",
      "Epoch 7/50\n",
      "\u001b[1m952/952\u001b[0m \u001b[32m━━━━━━━━━━━━━━━━━━━━\u001b[0m\u001b[37m\u001b[0m \u001b[1m1s\u001b[0m 555us/step - loss: 0.0012 - val_loss: 8.8847e-04\n",
      "Epoch 8/50\n",
      "\u001b[1m952/952\u001b[0m \u001b[32m━━━━━━━━━━━━━━━━━━━━\u001b[0m\u001b[37m\u001b[0m \u001b[1m1s\u001b[0m 608us/step - loss: 9.9996e-04 - val_loss: 7.8774e-04\n",
      "Epoch 9/50\n",
      "\u001b[1m952/952\u001b[0m \u001b[32m━━━━━━━━━━━━━━━━━━━━\u001b[0m\u001b[37m\u001b[0m \u001b[1m1s\u001b[0m 557us/step - loss: 9.4604e-04 - val_loss: 7.1274e-04\n",
      "Epoch 10/50\n",
      "\u001b[1m952/952\u001b[0m \u001b[32m━━━━━━━━━━━━━━━━━━━━\u001b[0m\u001b[37m\u001b[0m \u001b[1m1s\u001b[0m 543us/step - loss: 8.3453e-04 - val_loss: 5.9320e-04\n",
      "Epoch 11/50\n",
      "\u001b[1m952/952\u001b[0m \u001b[32m━━━━━━━━━━━━━━━━━━━━\u001b[0m\u001b[37m\u001b[0m \u001b[1m1s\u001b[0m 526us/step - loss: 6.3388e-04 - val_loss: 5.0339e-04\n",
      "Epoch 12/50\n",
      "\u001b[1m952/952\u001b[0m \u001b[32m━━━━━━━━━━━━━━━━━━━━\u001b[0m\u001b[37m\u001b[0m \u001b[1m1s\u001b[0m 568us/step - loss: 5.6839e-04 - val_loss: 4.6113e-04\n",
      "Epoch 13/50\n",
      "\u001b[1m952/952\u001b[0m \u001b[32m━━━━━━━━━━━━━━━━━━━━\u001b[0m\u001b[37m\u001b[0m \u001b[1m1s\u001b[0m 535us/step - loss: 5.6525e-04 - val_loss: 4.2940e-04\n",
      "Epoch 14/50\n",
      "\u001b[1m952/952\u001b[0m \u001b[32m━━━━━━━━━━━━━━━━━━━━\u001b[0m\u001b[37m\u001b[0m \u001b[1m1s\u001b[0m 534us/step - loss: 5.0598e-04 - val_loss: 4.0743e-04\n",
      "Epoch 15/50\n",
      "\u001b[1m952/952\u001b[0m \u001b[32m━━━━━━━━━━━━━━━━━━━━\u001b[0m\u001b[37m\u001b[0m \u001b[1m1s\u001b[0m 611us/step - loss: 5.0152e-04 - val_loss: 3.9026e-04\n",
      "Epoch 16/50\n",
      "\u001b[1m952/952\u001b[0m \u001b[32m━━━━━━━━━━━━━━━━━━━━\u001b[0m\u001b[37m\u001b[0m \u001b[1m1s\u001b[0m 524us/step - loss: 4.6530e-04 - val_loss: 3.8049e-04\n",
      "Epoch 17/50\n",
      "\u001b[1m952/952\u001b[0m \u001b[32m━━━━━━━━━━━━━━━━━━━━\u001b[0m\u001b[37m\u001b[0m \u001b[1m1s\u001b[0m 533us/step - loss: 4.7025e-04 - val_loss: 3.7201e-04\n",
      "Epoch 18/50\n",
      "\u001b[1m952/952\u001b[0m \u001b[32m━━━━━━━━━━━━━━━━━━━━\u001b[0m\u001b[37m\u001b[0m \u001b[1m1s\u001b[0m 523us/step - loss: 3.9135e-04 - val_loss: 3.6600e-04\n",
      "Epoch 19/50\n",
      "\u001b[1m952/952\u001b[0m \u001b[32m━━━━━━━━━━━━━━━━━━━━\u001b[0m\u001b[37m\u001b[0m \u001b[1m1s\u001b[0m 600us/step - loss: 3.8914e-04 - val_loss: 3.5861e-04\n",
      "Epoch 20/50\n",
      "\u001b[1m952/952\u001b[0m \u001b[32m━━━━━━━━━━━━━━━━━━━━\u001b[0m\u001b[37m\u001b[0m \u001b[1m1s\u001b[0m 521us/step - loss: 3.7875e-04 - val_loss: 3.5046e-04\n",
      "Epoch 21/50\n",
      "\u001b[1m952/952\u001b[0m \u001b[32m━━━━━━━━━━━━━━━━━━━━\u001b[0m\u001b[37m\u001b[0m \u001b[1m1s\u001b[0m 585us/step - loss: 3.8473e-04 - val_loss: 3.4707e-04\n",
      "Epoch 22/50\n",
      "\u001b[1m952/952\u001b[0m \u001b[32m━━━━━━━━━━━━━━━━━━━━\u001b[0m\u001b[37m\u001b[0m \u001b[1m1s\u001b[0m 653us/step - loss: 3.6974e-04 - val_loss: 3.4329e-04\n",
      "Epoch 23/50\n",
      "\u001b[1m952/952\u001b[0m \u001b[32m━━━━━━━━━━━━━━━━━━━━\u001b[0m\u001b[37m\u001b[0m \u001b[1m1s\u001b[0m 637us/step - loss: 3.6343e-04 - val_loss: 3.4244e-04\n",
      "Epoch 24/50\n",
      "\u001b[1m952/952\u001b[0m \u001b[32m━━━━━━━━━━━━━━━━━━━━\u001b[0m\u001b[37m\u001b[0m \u001b[1m1s\u001b[0m 673us/step - loss: 3.5636e-04 - val_loss: 3.3749e-04\n",
      "Epoch 25/50\n",
      "\u001b[1m952/952\u001b[0m \u001b[32m━━━━━━━━━━━━━━━━━━━━\u001b[0m\u001b[37m\u001b[0m \u001b[1m1s\u001b[0m 674us/step - loss: 3.5406e-04 - val_loss: 3.3839e-04\n",
      "Epoch 26/50\n",
      "\u001b[1m952/952\u001b[0m \u001b[32m━━━━━━━━━━━━━━━━━━━━\u001b[0m\u001b[37m\u001b[0m \u001b[1m1s\u001b[0m 623us/step - loss: 3.5440e-04 - val_loss: 3.3509e-04\n",
      "Epoch 27/50\n",
      "\u001b[1m952/952\u001b[0m \u001b[32m━━━━━━━━━━━━━━━━━━━━\u001b[0m\u001b[37m\u001b[0m \u001b[1m0s\u001b[0m 504us/step - loss: 3.4407e-04 - val_loss: 3.3172e-04\n",
      "Epoch 28/50\n",
      "\u001b[1m952/952\u001b[0m \u001b[32m━━━━━━━━━━━━━━━━━━━━\u001b[0m\u001b[37m\u001b[0m \u001b[1m1s\u001b[0m 645us/step - loss: 3.3634e-04 - val_loss: 3.3287e-04\n",
      "Epoch 29/50\n",
      "\u001b[1m952/952\u001b[0m \u001b[32m━━━━━━━━━━━━━━━━━━━━\u001b[0m\u001b[37m\u001b[0m \u001b[1m1s\u001b[0m 617us/step - loss: 3.4846e-04 - val_loss: 3.3076e-04\n",
      "Epoch 30/50\n",
      "\u001b[1m952/952\u001b[0m \u001b[32m━━━━━━━━━━━━━━━━━━━━\u001b[0m\u001b[37m\u001b[0m \u001b[1m1s\u001b[0m 577us/step - loss: 3.3862e-04 - val_loss: 3.2861e-04\n",
      "Epoch 31/50\n",
      "\u001b[1m952/952\u001b[0m \u001b[32m━━━━━━━━━━━━━━━━━━━━\u001b[0m\u001b[37m\u001b[0m \u001b[1m1s\u001b[0m 624us/step - loss: 3.3302e-04 - val_loss: 3.3255e-04\n",
      "Epoch 32/50\n",
      "\u001b[1m952/952\u001b[0m \u001b[32m━━━━━━━━━━━━━━━━━━━━\u001b[0m\u001b[37m\u001b[0m \u001b[1m1s\u001b[0m 602us/step - loss: 3.3507e-04 - val_loss: 3.2867e-04\n",
      "Epoch 33/50\n",
      "\u001b[1m952/952\u001b[0m \u001b[32m━━━━━━━━━━━━━━━━━━━━\u001b[0m\u001b[37m\u001b[0m \u001b[1m1s\u001b[0m 576us/step - loss: 3.3717e-04 - val_loss: 3.2819e-04\n",
      "Epoch 34/50\n",
      "\u001b[1m952/952\u001b[0m \u001b[32m━━━━━━━━━━━━━━━━━━━━\u001b[0m\u001b[37m\u001b[0m \u001b[1m1s\u001b[0m 529us/step - loss: 3.3908e-04 - val_loss: 3.3124e-04\n",
      "Epoch 35/50\n",
      "\u001b[1m952/952\u001b[0m \u001b[32m━━━━━━━━━━━━━━━━━━━━\u001b[0m\u001b[37m\u001b[0m \u001b[1m1s\u001b[0m 573us/step - loss: 3.4430e-04 - val_loss: 3.2723e-04\n",
      "Epoch 36/50\n",
      "\u001b[1m952/952\u001b[0m \u001b[32m━━━━━━━━━━━━━━━━━━━━\u001b[0m\u001b[37m\u001b[0m \u001b[1m1s\u001b[0m 524us/step - loss: 3.4322e-04 - val_loss: 3.2662e-04\n",
      "Epoch 37/50\n",
      "\u001b[1m952/952\u001b[0m \u001b[32m━━━━━━━━━━━━━━━━━━━━\u001b[0m\u001b[37m\u001b[0m \u001b[1m1s\u001b[0m 582us/step - loss: 3.3443e-04 - val_loss: 3.2629e-04\n",
      "Epoch 38/50\n",
      "\u001b[1m952/952\u001b[0m \u001b[32m━━━━━━━━━━━━━━━━━━━━\u001b[0m\u001b[37m\u001b[0m \u001b[1m1s\u001b[0m 559us/step - loss: 3.3425e-04 - val_loss: 3.2562e-04\n",
      "Epoch 39/50\n",
      "\u001b[1m952/952\u001b[0m \u001b[32m━━━━━━━━━━━━━━━━━━━━\u001b[0m\u001b[37m\u001b[0m \u001b[1m1s\u001b[0m 544us/step - loss: 3.3314e-04 - val_loss: 3.2783e-04\n",
      "Epoch 40/50\n",
      "\u001b[1m952/952\u001b[0m \u001b[32m━━━━━━━━━━━━━━━━━━━━\u001b[0m\u001b[37m\u001b[0m \u001b[1m1s\u001b[0m 572us/step - loss: 3.3300e-04 - val_loss: 3.2718e-04\n",
      "Epoch 41/50\n",
      "\u001b[1m952/952\u001b[0m \u001b[32m━━━━━━━━━━━━━━━━━━━━\u001b[0m\u001b[37m\u001b[0m \u001b[1m1s\u001b[0m 623us/step - loss: 3.2761e-04 - val_loss: 3.2409e-04\n",
      "Epoch 42/50\n",
      "\u001b[1m952/952\u001b[0m \u001b[32m━━━━━━━━━━━━━━━━━━━━\u001b[0m\u001b[37m\u001b[0m \u001b[1m1s\u001b[0m 542us/step - loss: 3.2270e-04 - val_loss: 3.2443e-04\n",
      "Epoch 43/50\n",
      "\u001b[1m952/952\u001b[0m \u001b[32m━━━━━━━━━━━━━━━━━━━━\u001b[0m\u001b[37m\u001b[0m \u001b[1m1s\u001b[0m 569us/step - loss: 3.2506e-04 - val_loss: 3.2581e-04\n",
      "Epoch 44/50\n",
      "\u001b[1m952/952\u001b[0m \u001b[32m━━━━━━━━━━━━━━━━━━━━\u001b[0m\u001b[37m\u001b[0m \u001b[1m1s\u001b[0m 577us/step - loss: 3.2228e-04 - val_loss: 3.2565e-04\n",
      "Epoch 45/50\n",
      "\u001b[1m952/952\u001b[0m \u001b[32m━━━━━━━━━━━━━━━━━━━━\u001b[0m\u001b[37m\u001b[0m \u001b[1m1s\u001b[0m 565us/step - loss: 3.2480e-04 - val_loss: 3.2822e-04\n",
      "Epoch 46/50\n",
      "\u001b[1m952/952\u001b[0m \u001b[32m━━━━━━━━━━━━━━━━━━━━\u001b[0m\u001b[37m\u001b[0m \u001b[1m1s\u001b[0m 540us/step - loss: 3.3375e-04 - val_loss: 3.2431e-04\n",
      "Epoch 47/50\n",
      "\u001b[1m952/952\u001b[0m \u001b[32m━━━━━━━━━━━━━━━━━━━━\u001b[0m\u001b[37m\u001b[0m \u001b[1m1s\u001b[0m 555us/step - loss: 3.2500e-04 - val_loss: 3.2483e-04\n",
      "Epoch 48/50\n",
      "\u001b[1m952/952\u001b[0m \u001b[32m━━━━━━━━━━━━━━━━━━━━\u001b[0m\u001b[37m\u001b[0m \u001b[1m1s\u001b[0m 538us/step - loss: 3.2148e-04 - val_loss: 3.2570e-04\n",
      "Epoch 49/50\n",
      "\u001b[1m952/952\u001b[0m \u001b[32m━━━━━━━━━━━━━━━━━━━━\u001b[0m\u001b[37m\u001b[0m \u001b[1m1s\u001b[0m 587us/step - loss: 3.3260e-04 - val_loss: 3.2415e-04\n",
      "Epoch 50/50\n",
      "\u001b[1m952/952\u001b[0m \u001b[32m━━━━━━━━━━━━━━━━━━━━\u001b[0m\u001b[37m\u001b[0m \u001b[1m1s\u001b[0m 587us/step - loss: 3.1875e-04 - val_loss: 3.2234e-04\n"
     ]
    },
    {
     "data": {
      "text/plain": [
       "<keras.src.callbacks.history.History at 0x1a98e1c9c40>"
      ]
     },
     "execution_count": 28,
     "metadata": {},
     "output_type": "execute_result"
    }
   ],
   "source": [
    "# Train the model\n",
    "autoencoder.fit(X_train, X_train, epochs=50, batch_size=32, shuffle=True, validation_split=0.1)"
   ]
  },
  {
   "cell_type": "code",
   "execution_count": 29,
   "id": "1d1b8f1a-a26b-4481-a843-80ad2b7aaf78",
   "metadata": {},
   "outputs": [
    {
     "name": "stdout",
     "output_type": "stream",
     "text": [
      "\u001b[1m265/265\u001b[0m \u001b[32m━━━━━━━━━━━━━━━━━━━━\u001b[0m\u001b[37m\u001b[0m \u001b[1m0s\u001b[0m 522us/step\n"
     ]
    }
   ],
   "source": [
    "# Predict using the autoencoder to get reconstruction errors\n",
    "reconstructions = autoencoder.predict(X_test)"
   ]
  },
  {
   "cell_type": "code",
   "execution_count": 30,
   "id": "bd86917a-4096-47c4-b0bd-969779a2a0bd",
   "metadata": {},
   "outputs": [],
   "source": [
    "# Calculate reconstruction error for each test sample\n",
    "reconstruction_errors = np.mean(np.power(X_test - reconstructions, 2), axis=1)"
   ]
  },
  {
   "cell_type": "code",
   "execution_count": 31,
   "id": "a84fc691-9682-4653-9908-b03abaf53754",
   "metadata": {},
   "outputs": [],
   "source": [
    "# Set a threshold for anomaly detection (e.g., 95th percentile of training errors)\n",
    "threshold = np.percentile(reconstruction_errors, 95)"
   ]
  },
  {
   "cell_type": "code",
   "execution_count": 33,
   "id": "46c0398c-933f-41bd-82c5-f4450d195906",
   "metadata": {},
   "outputs": [
    {
     "data": {
      "text/plain": [
       "array([False, False,  True, ..., False, False, False])"
      ]
     },
     "execution_count": 33,
     "metadata": {},
     "output_type": "execute_result"
    }
   ],
   "source": [
    "# Classify anomalies\n",
    "anomalies = reconstruction_errors > threshold\n",
    "anomalies"
   ]
  },
  {
   "cell_type": "code",
   "execution_count": 34,
   "id": "395a2e95-5d1e-477a-b54e-06216a44a3b6",
   "metadata": {},
   "outputs": [
    {
     "name": "stdout",
     "output_type": "stream",
     "text": [
      "Number of anomalies detected: 423\n"
     ]
    }
   ],
   "source": [
    "# Print results\n",
    "print(f\"Number of anomalies detected: {np.sum(anomalies)}\")"
   ]
  }
 ],
 "metadata": {
  "kernelspec": {
   "display_name": "Python 3 (ipykernel)",
   "language": "python",
   "name": "python3"
  },
  "language_info": {
   "codemirror_mode": {
    "name": "ipython",
    "version": 3
   },
   "file_extension": ".py",
   "mimetype": "text/x-python",
   "name": "python",
   "nbconvert_exporter": "python",
   "pygments_lexer": "ipython3",
   "version": "3.12.2"
  }
 },
 "nbformat": 4,
 "nbformat_minor": 5
}
